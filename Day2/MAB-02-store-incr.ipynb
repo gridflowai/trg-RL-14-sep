{
 "cells": [
  {
   "cell_type": "markdown",
   "id": "f05bae58-9536-4a08-becb-3cd56e85764b",
   "metadata": {},
   "source": [
    "----------------------\n",
    "#### Compare the \n",
    "- store and compute Vs the incrmental update methods\n",
    "--------------------------"
   ]
  },
  {
   "cell_type": "code",
   "execution_count": 22,
   "id": "620cc798-ef84-4c38-bd41-a093138bc8f1",
   "metadata": {},
   "outputs": [],
   "source": [
    "#pip install lolviz"
   ]
  },
  {
   "cell_type": "code",
   "execution_count": 9,
   "id": "4cff7d94-b0d3-4809-93b4-858a259d327d",
   "metadata": {},
   "outputs": [],
   "source": [
    "import numpy as np \n",
    "import matplotlib.pyplot as plt \n",
    "\n",
    "import pandas as pd \n",
    "from lolviz import *\n",
    "import random"
   ]
  },
  {
   "cell_type": "code",
   "execution_count": 3,
   "id": "51a8ac74-5208-4cda-89a9-5dfb7af1365e",
   "metadata": {},
   "outputs": [],
   "source": [
    "k     = 3              # number of arms (advs)\n",
    "\n",
    "k_n       = np.zeros(k)    # Step count for each arm (options)\n",
    "k_Q_value = np.zeros(k)    # store Q value for each arm"
   ]
  },
  {
   "cell_type": "code",
   "execution_count": 4,
   "id": "31b15f1d-817b-440f-a726-f725da42c262",
   "metadata": {},
   "outputs": [
    {
     "data": {
      "text/plain": [
       "array([0., 0., 0.])"
      ]
     },
     "execution_count": 4,
     "metadata": {},
     "output_type": "execute_result"
    }
   ],
   "source": [
    "k_n"
   ]
  },
  {
   "cell_type": "code",
   "execution_count": 5,
   "id": "b3135724-f03c-4292-9896-0e9b410cd344",
   "metadata": {},
   "outputs": [
    {
     "data": {
      "text/plain": [
       "array([0., 0., 0.])"
      ]
     },
     "execution_count": 5,
     "metadata": {},
     "output_type": "execute_result"
    }
   ],
   "source": [
    "k_Q_value"
   ]
  },
  {
   "cell_type": "code",
   "execution_count": 6,
   "id": "2564a035-4ec9-4f22-836c-8ddd4ccce617",
   "metadata": {},
   "outputs": [],
   "source": [
    "from collections import defaultdict"
   ]
  },
  {
   "cell_type": "code",
   "execution_count": 7,
   "id": "ed0bec34-8f9b-42c8-aa90-c9b85e7303fe",
   "metadata": {},
   "outputs": [],
   "source": [
    "rewards_for_each_arm = defaultdict(list)\n",
    "\n",
    "for arm in range(k):\n",
    "    rewards_for_each_arm[arm]"
   ]
  },
  {
   "cell_type": "code",
   "execution_count": 8,
   "id": "a1f2def7-ad48-4e2f-8ec1-0fbcff093b5f",
   "metadata": {},
   "outputs": [
    {
     "data": {
      "text/plain": [
       "defaultdict(list, {0: [], 1: [], 2: []})"
      ]
     },
     "execution_count": 8,
     "metadata": {},
     "output_type": "execute_result"
    }
   ],
   "source": [
    "rewards_for_each_arm"
   ]
  },
  {
   "cell_type": "markdown",
   "id": "2528c861-9851-4b6b-a140-2b22513a30ab",
   "metadata": {},
   "source": [
    "#### store and compute method"
   ]
  },
  {
   "cell_type": "code",
   "execution_count": 18,
   "id": "084de2cc-62e1-489d-b9ab-a7e4cf9f97a1",
   "metadata": {},
   "outputs": [
    {
     "name": "stdout",
     "output_type": "stream",
     "text": [
      "Generated random number is less than 0.05 - EXPLORE\n",
      "Generated random number is less than 0.05 - EXPLORE\n",
      "Generated random number is less than 0.05 - EXPLORE\n",
      "Generated random number is less than 0.05 - EXPLORE\n",
      "Generated random number is less than 0.05 - EXPLORE\n",
      "Generated random number is less than 0.05 - EXPLORE\n",
      "Generated random number is less than 0.05 - EXPLORE\n",
      "Generated random number is less than 0.05 - EXPLORE\n",
      "Generated random number is less than 0.05 - EXPLORE\n",
      "Generated random number is less than 0.05 - EXPLORE\n",
      "Generated random number is less than 0.05 - EXPLORE\n",
      "Generated random number is less than 0.05 - EXPLORE\n",
      "Generated random number is less than 0.05 - EXPLORE\n",
      "Generated random number is less than 0.05 - EXPLORE\n",
      "Generated random number is less than 0.05 - EXPLORE\n",
      "Generated random number is less than 0.05 - EXPLORE\n",
      "Generated random number is less than 0.05 - EXPLORE\n",
      "Generated random number is less than 0.05 - EXPLORE\n",
      "Generated random number is less than 0.05 - EXPLORE\n",
      "Generated random number is less than 0.05 - EXPLORE\n",
      "Generated random number is less than 0.05 - EXPLORE\n",
      "Generated random number is less than 0.05 - EXPLORE\n",
      "Generated random number is less than 0.05 - EXPLORE\n",
      "Generated random number is less than 0.05 - EXPLORE\n",
      "Generated random number is less than 0.05 - EXPLORE\n",
      "Generated random number is less than 0.05 - EXPLORE\n",
      "Generated random number is less than 0.05 - EXPLORE\n",
      "Generated random number is less than 0.05 - EXPLORE\n",
      "Generated random number is less than 0.05 - EXPLORE\n",
      "Generated random number is less than 0.05 - EXPLORE\n",
      "Generated random number is less than 0.05 - EXPLORE\n",
      "Generated random number is less than 0.05 - EXPLORE\n",
      "Generated random number is less than 0.05 - EXPLORE\n",
      "Generated random number is less than 0.05 - EXPLORE\n",
      "Generated random number is less than 0.05 - EXPLORE\n",
      "Generated random number is less than 0.05 - EXPLORE\n",
      "Generated random number is less than 0.05 - EXPLORE\n",
      "Generated random number is less than 0.05 - EXPLORE\n",
      "Generated random number is less than 0.05 - EXPLORE\n",
      "Generated random number is less than 0.05 - EXPLORE\n",
      "Generated random number is less than 0.05 - EXPLORE\n",
      "Generated random number is less than 0.05 - EXPLORE\n",
      "Number of times we exploited = 958\n"
     ]
    }
   ],
   "source": [
    "eps = .05\n",
    "cnt_exploitation =0\n",
    "\n",
    "for i in range(1000):\n",
    "    \n",
    "    r_gen = np.random.rand()\n",
    "    \n",
    "    if r_gen < eps:\n",
    "        print(f'Generated random number is less than {eps} - EXPLORE')\n",
    "    else:\n",
    "        cnt_exploitation += 1\n",
    "\n",
    "print(f'Number of times we exploited = {cnt_exploitation}')"
   ]
  },
  {
   "cell_type": "code",
   "execution_count": 19,
   "id": "2d904467-5ffa-4746-ab95-1594a4b4a842",
   "metadata": {},
   "outputs": [],
   "source": [
    "iters = 50000          # Number of iterations\n",
    "eps   = .05            # Search probability"
   ]
  },
  {
   "cell_type": "code",
   "execution_count": 20,
   "id": "eeb63e4e-044a-4942-99a5-d98526c70194",
   "metadata": {},
   "outputs": [
    {
     "name": "stdout",
     "output_type": "stream",
     "text": [
      "Wall time: 39 s\n"
     ]
    }
   ],
   "source": [
    "%%time\n",
    "for iter in range(iters):\n",
    "    \n",
    "    p = np.random.rand()           # Generate random number\n",
    "    \n",
    "    if p < eps:\n",
    "        a = np.random.choice(k)    # Randomly select an action\n",
    "    else:\n",
    "        a = np.argmax(k_Q_value)    # Take greedy action\n",
    "   \n",
    "    # Update counts\n",
    "    k_n[a] += 1\n",
    "    \n",
    "    reward = np.random.normal()\n",
    "    \n",
    "    rewards_for_each_arm[a].append(reward)\n",
    "    \n",
    "    # Update results for Q(A)\n",
    "    k_Q_value[a] = np.mean(rewards_for_each_arm[a])"
   ]
  },
  {
   "cell_type": "code",
   "execution_count": 23,
   "id": "e5efb058-967c-40cd-92dc-02a46f142ae1",
   "metadata": {},
   "outputs": [
    {
     "data": {
      "text/plain": [
       "(835, 1636, 47529)"
      ]
     },
     "execution_count": 23,
     "metadata": {},
     "output_type": "execute_result"
    }
   ],
   "source": [
    "len(rewards_for_each_arm[0]), len(rewards_for_each_arm[1]), len(rewards_for_each_arm[2])"
   ]
  },
  {
   "cell_type": "code",
   "execution_count": 24,
   "id": "0efa451f-93d1-4e85-9f30-9ddb96956871",
   "metadata": {},
   "outputs": [
    {
     "data": {
      "text/plain": [
       "array([-0.01967976, -0.01634974, -0.00402833])"
      ]
     },
     "execution_count": 24,
     "metadata": {},
     "output_type": "execute_result"
    }
   ],
   "source": [
    "k_Q_value"
   ]
  },
  {
   "cell_type": "markdown",
   "id": "586bbe3e-02d7-464a-85b3-6155f436aaf4",
   "metadata": {},
   "source": [
    "#### Using the incremental method to compute the Q for ads"
   ]
  },
  {
   "cell_type": "code",
   "execution_count": 25,
   "id": "d2693d1e-0d57-4d72-b4f9-6b207c5527ae",
   "metadata": {},
   "outputs": [],
   "source": [
    "k_n      = np.zeros(k)    # Step count for each arm (options)\n",
    "k_reward = np.zeros(k)    # Mean reward for each arm"
   ]
  },
  {
   "cell_type": "code",
   "execution_count": 28,
   "id": "d8f34fd5-9378-4360-b61d-eaf44c59b923",
   "metadata": {},
   "outputs": [
    {
     "name": "stdout",
     "output_type": "stream",
     "text": [
      "Wall time: 577 ms\n"
     ]
    }
   ],
   "source": [
    "%%time\n",
    "for iter in range(iters):\n",
    "    \n",
    "    p = np.random.rand()           # Generate random number\n",
    "    \n",
    "    if p < eps:\n",
    "        a = np.random.choice(k)    # Randomly select an action\n",
    "    else:\n",
    "        a = np.argmax(k_reward)    # Take greedy action\n",
    "   \n",
    "    # Update counts\n",
    "    k_n[a] += 1\n",
    "    \n",
    "    reward = np.random.normal(2, 1)   # most important part\n",
    "    \n",
    "    rewards_for_each_arm[a].append(reward)\n",
    "    \n",
    "    # Update results for Q(A)\n",
    "    k_reward[a] = k_reward[a] + (reward - k_reward[a]) / k_n[a]"
   ]
  },
  {
   "attachments": {
    "13d6b972-a7c9-4a2a-a2fc-686a51bda3e4.png": {
     "image/png": "[encoded data removed]"
    }
   },
   "cell_type": "markdown",
   "id": "6f515a0f-fcb5-4e93-95c2-126124f92e06",
   "metadata": {},
   "source": [
    "![image.png](attachment:13d6b972-a7c9-4a2a-a2fc-686a51bda3e4.png)"
   ]
  },
  {
   "cell_type": "code",
   "execution_count": 29,
   "id": "6257d6c0-9a3d-4ed2-8cd5-459cc9d8c861",
   "metadata": {},
   "outputs": [
    {
     "data": {
      "text/plain": [
       "array([1.00438378, 0.78879156, 0.7868932 ])"
      ]
     },
     "execution_count": 29,
     "metadata": {},
     "output_type": "execute_result"
    }
   ],
   "source": [
    "k_reward"
   ]
  },
  {
   "cell_type": "code",
   "execution_count": null,
   "id": "0fb62e46-97b0-4278-9ef3-b3582a4695e6",
   "metadata": {},
   "outputs": [],
   "source": []
  }
 ],
 "metadata": {
  "kernelspec": {
   "display_name": "Python 3 (ipykernel)",
   "language": "python",
   "name": "python3"
  },
  "language_info": {
   "codemirror_mode": {
    "name": "ipython",
    "version": 3
   },
   "file_extension": ".py",
   "mimetype": "text/x-python",
   "name": "python",
   "nbconvert_exporter": "python",
   "pygments_lexer": "ipython3",
   "version": "3.9.13"
  }
 },
 "nbformat": 4,
 "nbformat_minor": 5
}
